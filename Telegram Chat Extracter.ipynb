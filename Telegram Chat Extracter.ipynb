{
 "cells": [
  {
   "cell_type": "code",
   "execution_count": null,
   "metadata": {},
   "outputs": [],
   "source": [
    "from telethon.sync import TelegramClient\n",
    "import datetime\n",
    "import pandas as pd\n",
    "\n",
    "\n",
    "api_id= 'API ID'\n",
    "api_hash= 'HASH'\n",
    "\n",
    "chats = ['f1experiences']\n",
    "\n",
    "\n",
    "client =  TelegramClient('TeleDaEng', api_id, api_hash)\n",
    "\n",
    "\n",
    "df = pd.DataFrame()\n",
    "\n",
    "\n",
    "for chat in chats:\n",
    "    with TelegramClient('test', api_id, api_hash) as client:\n",
    "        for message in client.iter_messages(chat, offset_date=datetime.date.today() , reverse=True):\n",
    "            print(message)\n",
    "            data = { \"group\" : chat, \"sender\" : message.sender_id, \"text\" : message.text, \"date\" : message.date}\n",
    "\n",
    "#             temp_df = pd.DataFrame(data, index=[1])\n",
    "#             df = df.append(temp_df)\n",
    "\n",
    "# df['date'] = df['date'].dt.tz_localize(None)\n",
    "\n",
    "# df.to_excel(\"C:\\\\crypto\\\\data_{}.xlsx\".format(datetime.date.today()), index=False)"
   ]
  },
  {
   "cell_type": "code",
   "execution_count": null,
   "metadata": {},
   "outputs": [],
   "source": []
  }
 ],
 "metadata": {
  "kernelspec": {
   "display_name": "Python 3",
   "language": "python",
   "name": "python3"
  },
  "language_info": {
   "codemirror_mode": {
    "name": "ipython",
    "version": 3
   },
   "file_extension": ".py",
   "mimetype": "text/x-python",
   "name": "python",
   "nbconvert_exporter": "python",
   "pygments_lexer": "ipython3",
   "version": "3.7.5"
  }
 },
 "nbformat": 4,
 "nbformat_minor": 2
}
